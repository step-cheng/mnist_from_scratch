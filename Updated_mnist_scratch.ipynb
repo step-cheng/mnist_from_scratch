{
  "cells": [
    {
      "cell_type": "markdown",
      "metadata": {
        "id": "view-in-github",
        "colab_type": "text"
      },
      "source": [
        "<a href=\"https://colab.research.google.com/github/step-cheng/mnist_from_scratch/blob/main/Updated_mnist_scratch.ipynb\" target=\"_parent\"><img src=\"https://colab.research.google.com/assets/colab-badge.svg\" alt=\"Open In Colab\"/></a>"
      ]
    },
    {
      "cell_type": "code",
      "execution_count": 1,
      "metadata": {
        "id": "gX_jL5YjUe4A"
      },
      "outputs": [],
      "source": [
        "import numpy as np\n",
        "import time\n",
        "from os.path import join\n",
        "import matplotlib.pyplot as plt\n",
        "from keras.datasets import mnist"
      ]
    },
    {
      "cell_type": "code",
      "source": [
        "def shuffle(x,y):\n",
        "  pattern = np.random.permutation(y.size)\n",
        "  x, y = x[pattern,:,:], y[pattern]\n",
        "  return x, y\n",
        "\n",
        "def one_hot_encode(labels):\n",
        "  one_hot = np.zeros((10,labels.size))\n",
        "  one_hot[labels, range(labels.size)] = 1\n",
        "  return one_hot\n",
        "\n",
        "# normalize by dividing by max value\n",
        "def normalize(data):\n",
        "  data = data * (1 / 255)\n",
        "  return data\n",
        "\n",
        "def split(img_data, label_data, r):\n",
        "  assert img_data.shape[1] == label_data.shape[1]\n",
        "  assert (img_data.shape[1] * r) % 1 == 0\n",
        "  div = int(img_data.shape[1]*r)\n",
        "  return img_data[:,:div], label_data[:,:div], img_data[:,div:], label_data[:,div:]\n"
      ],
      "metadata": {
        "id": "yTcShflRazPi"
      },
      "execution_count": 2,
      "outputs": []
    },
    {
      "cell_type": "code",
      "source": [
        "(x_train, y_train), (x_test, y_test) = mnist.load_data()\n",
        "\n",
        "# set up training and validation data\n",
        "x_train, y_train = shuffle(x_train, y_train)\n",
        "train_onehotY = one_hot_encode(y_train)\n",
        "\n",
        "x_train = np.reshape(x_train,(x_train.shape[0],784)).T\n",
        "norm_x_train = normalize(x_train)\n",
        "\n",
        "assert norm_x_train.shape == (784,60000)\n",
        "assert train_onehotY.shape == (10,60000)\n",
        "\n",
        "r = 5/6\n",
        "train_imgs, train_labels, val_imgs, val_labels = split(norm_x_train, train_onehotY, r)\n",
        "\n",
        "# set up test data\n",
        "x_test, y_test = shuffle(x_test, y_test)\n",
        "test_labels = one_hot_encode(y_test)\n",
        "\n",
        "x_test = np.reshape(x_test, (x_test.shape[0], 784)).T\n",
        "test_imgs = normalize(x_test)\n",
        "\n",
        "assert test_imgs.shape == (784, 10000)\n",
        "assert test_labels.shape == (10, 10000)"
      ],
      "metadata": {
        "id": "lnz-WvkTgmtk"
      },
      "execution_count": 56,
      "outputs": []
    },
    {
      "cell_type": "code",
      "source": [
        "def show_image(img, label):\n",
        "    img = np.reshape(img.T, (28,28))\n",
        "    num = np.where(label == 1)\n",
        "    plt.figure()\n",
        "    plt.title(f'Image number: {num[0]}')\n",
        "    plt.imshow(img, cmap=plt.cm.gray)\n",
        "\n",
        "# show_image(train_imgs[:,9000],train_labels[:,9000])\n",
        "show_image(test_imgs[:,9000],test_labels[:,9000])\n"
      ],
      "metadata": {
        "id": "042XYqbCg0aJ",
        "colab": {
          "base_uri": "https://localhost:8080/",
          "height": 452
        },
        "outputId": "be45ed7b-1342-4dab-a066-7989accd2902"
      },
      "execution_count": 57,
      "outputs": [
        {
          "output_type": "display_data",
          "data": {
            "text/plain": [
              "<Figure size 640x480 with 1 Axes>"
            ],
            "image/png": "[encoded data removed]"
          },
          "metadata": {}
        }
      ]
    },
    {
      "cell_type": "code",
      "source": [
        "def initialize(dims):\n",
        "  params = {}\n",
        "  for i in range(1, len(dims)):\n",
        "      params['W' + str(i)] = np.random.randn(dims[i], dims[i-1]) * np.sqrt(1/(dims[i]))\n",
        "      params['b' + str(i)] = np.random.randn(dims[i], 1) * np.sqrt(1/dims[i])\n",
        "  return params\n"
      ],
      "metadata": {
        "id": "e4DOVKcDmazd"
      },
      "execution_count": 5,
      "outputs": []
    },
    {
      "cell_type": "code",
      "source": [
        "def relu(Z):\n",
        "  return np.maximum(Z,0)\n",
        "\n",
        "def softmax(Z):\n",
        "  Z_ = Z - np.max(Z, axis = 0, keepdims = True)\n",
        "  A = np.exp(Z_) / np.sum(np.exp(Z_), axis = 0, keepdims = True)\n",
        "  return A\n",
        "\n",
        "def forward_pass(X, params):\n",
        "  L = len(params)//2\n",
        "\n",
        "  forward = {}\n",
        "  forward['A0'] = X\n",
        "\n",
        "  for i in range(1,L):\n",
        "    forward['Z'+str(i)] = np.dot(params['W'+str(i)], forward['A'+str(i-1)]) + params['b'+str(i)]\n",
        "    forward['A'+str(i)] = relu(forward['Z'+str(i)])\n",
        "\n",
        "  forward['Z'+str(L)] = np.dot(params['W'+str(L)], forward['A'+str(L-1)]) + params['b'+str(L)]\n",
        "  forward['A'+str(L)] = softmax(forward['Z'+str(L)])\n",
        "\n",
        "\n",
        "  return forward\n"
      ],
      "metadata": {
        "id": "NEPJRxcEoaVw"
      },
      "execution_count": 21,
      "outputs": []
    },
    {
      "cell_type": "code",
      "source": [
        "def accuracy(A, Y):\n",
        "  assert A.shape == Y.shape\n",
        "  pred = np.zeros_like(A)\n",
        "  pred[np.argmax(A, axis = 0), range(A.shape[1])] = 1\n",
        "  acc = np.count_nonzero(pred + Y == 2) / Y.shape[1]\n",
        "  return acc"
      ],
      "metadata": {
        "id": "ixW602CBtdD1"
      },
      "execution_count": 7,
      "outputs": []
    },
    {
      "cell_type": "code",
      "source": [
        "def relu_deriv(A):\n",
        "  return A > 0\n",
        "\n",
        "def softmax_crossentropy_deriv(A, Y):\n",
        "  return A - Y\n",
        "\n",
        "def back_pass(forward, params, Y):\n",
        "  L = len(params) //2\n",
        "\n",
        "  grads = {}\n",
        "\n",
        "  # cross-entropy loss is calculated by averaging the loss over the sample size, thus the upstream gradient is 1/sample size\n",
        "  N = Y.shape[1]\n",
        "\n",
        "  # grads['dZ'+str(L)] = 1 * softmax_crossentropy_deriv(forward['A'+str(L)], Y)\n",
        "  dZ = 1 * softmax_crossentropy_deriv(forward['A'+str(L)], Y)\n",
        "  # grads['dW'+str(L)] = np.dot(dZ, forward['A'+str(L-1)].T)\n",
        "  grads['dW'+str(L)] = 1/N * np.dot(dZ, forward['A'+str(L-1)].T)\n",
        "  assert grads['dW'+str(L)].shape == params['W'+str(L)].shape\n",
        "  grads['db'+str(L)] = 1/N * np.sum(dZ, axis = 1, keepdims=True)\n",
        "  assert grads['db'+str(L)].shape == params['b'+str(L)].shape\n",
        "\n",
        "\n",
        "  for i in range(L-1,0,-1):\n",
        "    # dA_i+1 = W_i+1.T * dZ\n",
        "    # grads['dZ'+str(i)] = np.multiply(np.dot(params['W'+str(i+1)].T, grads['dZ'+str(i+1)]), relu_deriv(forward['Z'+str(i)]))\n",
        "    dZ = np.dot(params['W'+str(i+1)].T, dZ) * relu_deriv(forward['Z'+str(i)])\n",
        "    # grads['dW'+str(i)] = np.dot(dZ, forward['A'+str(i-1)].T)\n",
        "    grads['dW'+str(i)] = 1/N * np.dot(dZ, forward['A'+str(i-1)].T)\n",
        "    assert grads['dW'+str(L)].shape == params['W'+str(L)].shape\n",
        "    grads['db'+str(i)] = 1/N * np.sum(dZ, axis = 1, keepdims=True)\n",
        "    assert grads['db'+str(i)].shape == params['b'+str(i)].shape\n",
        "\n",
        "  return grads\n"
      ],
      "metadata": {
        "id": "JflpQ1AsrhDn"
      },
      "execution_count": 20,
      "outputs": []
    },
    {
      "cell_type": "code",
      "source": [
        "def learn(grads, params, rate):\n",
        "  L= len(params)//2\n",
        "\n",
        "  new_params = {}\n",
        "  for i in range(1, L + 1):\n",
        "    new_params['b'+str(i)] = params['b'+str(i)] - rate*grads['db'+str(i)]\n",
        "    new_params['W'+str(i)] = params['W'+str(i)] - rate*grads['dW'+str(i)]\n",
        "\n",
        "  return new_params"
      ],
      "metadata": {
        "id": "MVom3kLOyv2a"
      },
      "execution_count": 9,
      "outputs": []
    },
    {
      "cell_type": "code",
      "source": [
        "def model(img_data, label_data, num_batches, iterations = 1, rate = 0.01, dims = None, params = None, train = True):\n",
        "  if params is None: params = initialize(dims)\n",
        "\n",
        "  assert label_data.shape[1] % num_batches == 0\n",
        "  batch_size = int(label_data.shape[1] / num_batches)\n",
        "\n",
        "  L = len(params)//2\n",
        "  accuracies = []\n",
        "\n",
        "  # training data\n",
        "  if train:\n",
        "    for i in range(1, iterations+1):\n",
        "      for j in range(num_batches):\n",
        "        forward = forward_pass(img_data[:,j*batch_size:(j+1)*batch_size], params)\n",
        "\n",
        "        acc = accuracy(forward['A'+str(L)], label_data[:,j*batch_size:(j+1)*batch_size])\n",
        "        accuracies.append(acc)\n",
        "\n",
        "        grads = back_pass(forward, params, label_data[:,j*batch_size:(j+1)*batch_size])\n",
        "        params = learn(grads, params, rate)\n",
        "\n",
        "      if i % 10 == 0: print(f'Accuracy at iteration {i}: {accuracies[i-1]}')\n",
        "\n",
        "  # for validating and testing data\n",
        "  else:\n",
        "      for j in range(num_batches):\n",
        "        forward = forward_pass(img_data[:,j*batch_size:(j+1)*batch_size], params)\n",
        "\n",
        "        acc = accuracy(forward['A'+str(L)], label_data[:,j*batch_size:(j+1)*batch_size])\n",
        "        accuracies.append(acc)\n",
        "\n",
        "        # grads = back_pass(forward, params, label_data[:,j*batch_size:(j+1)*batch_size])\n",
        "        # params = learn(grads, params, rate)\n",
        "        print(f'Accuracy at iteration {j+1}: {accuracies[j]}')\n",
        "\n",
        "  plt.figure()\n",
        "  plt.title('Training Accuracy') if train else plt.title('Test Accuracy')\n",
        "  plt.xlabel('Cycles')\n",
        "  plt.ylabel('accuracy (%)')\n",
        "  plt.plot(range(1,len(accuracies)+1), [100*a for a in accuracies], marker = '.')\n",
        "  plt.show()\n",
        "\n",
        "  return params\n"
      ],
      "metadata": {
        "id": "LRPN1iHVxdaK"
      },
      "execution_count": 53,
      "outputs": []
    },
    {
      "cell_type": "code",
      "source": [
        "# train data\n",
        "\n",
        "dimensions = [784, 128, 64, 10]\n",
        "batches = 1\n",
        "iterations = 300\n",
        "rate = 0.05\n",
        "\n",
        "params = model(train_imgs, train_labels, batches, iterations, rate, dimensions)"
      ],
      "metadata": {
        "id": "9lL5LWgY0UyC",
        "colab": {
          "base_uri": "https://localhost:8080/",
          "height": 993
        },
        "outputId": "f54c53b5-7e84-43d9-9e31-bbca22e9e8bd"
      },
      "execution_count": 51,
      "outputs": [
        {
          "output_type": "stream",
          "name": "stdout",
          "text": [
            "Accuracy at iteration 10: 0.49502\n",
            "Accuracy at iteration 20: 0.67556\n",
            "Accuracy at iteration 30: 0.75128\n",
            "Accuracy at iteration 40: 0.78884\n",
            "Accuracy at iteration 50: 0.8132\n",
            "Accuracy at iteration 60: 0.8299\n",
            "Accuracy at iteration 70: 0.84264\n",
            "Accuracy at iteration 80: 0.8531\n",
            "Accuracy at iteration 90: 0.86036\n",
            "Accuracy at iteration 100: 0.86688\n",
            "Accuracy at iteration 110: 0.87226\n",
            "Accuracy at iteration 120: 0.87688\n",
            "Accuracy at iteration 130: 0.88138\n",
            "Accuracy at iteration 140: 0.88476\n",
            "Accuracy at iteration 150: 0.88774\n",
            "Accuracy at iteration 160: 0.8902\n",
            "Accuracy at iteration 170: 0.89246\n",
            "Accuracy at iteration 180: 0.89528\n",
            "Accuracy at iteration 190: 0.89704\n",
            "Accuracy at iteration 200: 0.89894\n",
            "Accuracy at iteration 210: 0.90094\n",
            "Accuracy at iteration 220: 0.90262\n",
            "Accuracy at iteration 230: 0.9041\n",
            "Accuracy at iteration 240: 0.90546\n",
            "Accuracy at iteration 250: 0.90698\n",
            "Accuracy at iteration 260: 0.90828\n",
            "Accuracy at iteration 270: 0.90982\n",
            "Accuracy at iteration 280: 0.91116\n",
            "Accuracy at iteration 290: 0.91246\n",
            "Accuracy at iteration 300: 0.91358\n"
          ]
        },
        {
          "output_type": "display_data",
          "data": {
            "text/plain": [
              "<Figure size 640x480 with 1 Axes>"
            ],
            "image/png": "[encoded data removed]"
          },
          "metadata": {}
        }
      ]
    },
    {
      "cell_type": "code",
      "source": [
        "# validate data\n",
        "batches = 1\n",
        "\n",
        "params = model(val_imgs, val_labels, batches, params = params, train = False)"
      ],
      "metadata": {
        "colab": {
          "base_uri": "https://localhost:8080/",
          "height": 489
        },
        "id": "O974as7Pg3BR",
        "outputId": "c470bcb8-9eb9-440f-8d4d-5b3a247d2c12"
      },
      "execution_count": 54,
      "outputs": [
        {
          "output_type": "stream",
          "name": "stdout",
          "text": [
            "Accuracy at iteration 1: 0.9124\n"
          ]
        },
        {
          "output_type": "display_data",
          "data": {
            "text/plain": [
              "<Figure size 640x480 with 1 Axes>"
            ],
            "image/png": "[encoded data removed]"
          },
          "metadata": {}
        }
      ]
    },
    {
      "cell_type": "code",
      "source": [
        "# test data\n",
        "batches = 1\n",
        "\n",
        "params = model(test_imgs, test_labels, batches, params = params, train = False)"
      ],
      "metadata": {
        "colab": {
          "base_uri": "https://localhost:8080/",
          "height": 489
        },
        "id": "T46Rv92ky4VJ",
        "outputId": "7633574a-bcc4-4c73-c985-705a6b54a1d2"
      },
      "execution_count": 58,
      "outputs": [
        {
          "output_type": "stream",
          "name": "stdout",
          "text": [
            "Accuracy at iteration 1: 0.9176\n"
          ]
        },
        {
          "output_type": "display_data",
          "data": {
            "text/plain": [
              "<Figure size 640x480 with 1 Axes>"
            ],
            "image/png": "[encoded data removed]"
          },
          "metadata": {}
        }
      ]
    }
  ],
  "metadata": {
    "language_info": {
      "name": "python"
    },
    "orig_nbformat": 4,
    "colab": {
      "provenance": [],
      "include_colab_link": true
    },
    "kernelspec": {
      "name": "python3",
      "display_name": "Python 3"
    }
  },
  "nbformat": 4,
  "nbformat_minor": 0
}