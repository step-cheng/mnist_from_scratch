{
  "cells": [
    {
      "cell_type": "markdown",
      "metadata": {
        "id": "view-in-github",
        "colab_type": "text"
      },
      "source": [
        "<a href=\"https://colab.research.google.com/github/step-cheng/mnist_from_scratch/blob/main/mnist_scratch.ipynb\" target=\"_parent\"><img src=\"https://colab.research.google.com/assets/colab-badge.svg\" alt=\"Open In Colab\"/></a>"
      ]
    },
    {
      "cell_type": "code",
      "execution_count": 205,
      "metadata": {
        "id": "gX_jL5YjUe4A"
      },
      "outputs": [],
      "source": [
        "import numpy as np\n",
        "import time\n",
        "import pandas as pd\n",
        "import random\n",
        "from os.path import join\n",
        "import matplotlib.pyplot as plt\n",
        "from keras.datasets import mnist"
      ]
    },
    {
      "cell_type": "code",
      "source": [
        "def organize(data):\n",
        "  data = np.array(data)\n",
        "  np.random.shuffle(data)\n",
        "  x, y = data.T[1:,:], data.T[0,:]\n",
        "  return x, y\n",
        "\n",
        "def one_hot_encode(labels):\n",
        "  one_hot = np.zeros((10,labels.size))\n",
        "  one_hot[labels, range(labels.size)] = 1\n",
        "  return one_hot\n",
        "\n",
        "# normalize by dividing by max value\n",
        "def normalize(data):\n",
        "  data = data * (1 / 255)\n",
        "  return data\n",
        "\n",
        "def split(img_data, label_data, r):\n",
        "  assert img_data.shape[1] == label_data.shape[1]\n",
        "  assert (img_data.shape[1] * r) % 1 == 0\n",
        "  div = int(img_data.shape[1]*r)\n",
        "  return img_data[:,:div], label_data[:,:div], img_data[:,div:], label_data[:,div:]\n"
      ],
      "metadata": {
        "id": "yTcShflRazPi"
      },
      "execution_count": 206,
      "outputs": []
    },
    {
      "cell_type": "code",
      "source": [
        "url1 = 'https://media.githubusercontent.com/media/step-cheng/mnist_from_scratch/main/mnist_train.csv'\n",
        "url2 = 'https://media.githubusercontent.com/media/step-cheng/mnist_from_scratch/main/mnist_test.csv'\n",
        "all_train = pd.read_csv(url1)\n",
        "all_test = pd.read_csv(url2)"
      ],
      "metadata": {
        "id": "pT8oIGjVZvxM"
      },
      "execution_count": 207,
      "outputs": []
    },
    {
      "cell_type": "code",
      "source": [
        "x_train, y_train = organize(all_train)\n",
        "\n",
        "train_onehotY = one_hot_encode(y_train)\n",
        "norm_x_train = normalize(x_train)\n",
        "assert x_train.shape == (784,60000)\n",
        "assert train_onehotY.shape == (10,60000)\n",
        "\n",
        "r = 5/6\n",
        "train_imgs, train_labels, val_imgs, val_labels = split(norm_x_train, train_onehotY, r)\n",
        "\n",
        "# set up test data\n",
        "\n",
        "x_test, y_test = organize(all_test)\n",
        "\n",
        "test_labels = one_hot_encode(y_test)\n",
        "\n",
        "# x_test = np.reshape(x_test, (x_test.shape[0], 784)).T\n",
        "test_imgs = normalize(x_test)\n",
        "\n",
        "assert test_imgs.shape == (784, 10000)\n",
        "assert test_labels.shape == (10, 10000)"
      ],
      "metadata": {
        "id": "lnz-WvkTgmtk"
      },
      "execution_count": 208,
      "outputs": []
    },
    {
      "cell_type": "code",
      "source": [
        "def show_image(img, label):\n",
        "    img = np.reshape(img.T, (28,28))\n",
        "    num = np.where(label == 1)\n",
        "    plt.figure()\n",
        "    plt.title(f'Image number: {num[0]}')\n",
        "    plt.imshow(img, cmap=plt.cm.gray)\n"
      ],
      "metadata": {
        "id": "042XYqbCg0aJ"
      },
      "execution_count": 223,
      "outputs": []
    },
    {
      "cell_type": "code",
      "source": [
        "def initialize(dims):\n",
        "  params = {}\n",
        "  for i in range(1, len(dims)):\n",
        "      params['W' + str(i)] = np.random.randn(dims[i], dims[i-1]) * np.sqrt(1/(dims[i]))\n",
        "      params['b' + str(i)] = np.random.randn(dims[i], 1) * np.sqrt(1/dims[i])\n",
        "  return params\n"
      ],
      "metadata": {
        "id": "e4DOVKcDmazd"
      },
      "execution_count": 211,
      "outputs": []
    },
    {
      "cell_type": "code",
      "source": [
        "def relu(Z):\n",
        "  return np.maximum(Z,0)\n",
        "\n",
        "def softmax(Z):\n",
        "  Z_ = Z - np.max(Z, axis = 0, keepdims = True)\n",
        "  A = np.exp(Z_) / np.sum(np.exp(Z_), axis = 0, keepdims = True)\n",
        "  return A\n",
        "\n",
        "def forward_pass(X, params):\n",
        "  L = len(params)//2\n",
        "\n",
        "  forward = {}\n",
        "  forward['A0'] = X\n",
        "\n",
        "  for i in range(1,L):\n",
        "    forward['Z'+str(i)] = np.dot(params['W'+str(i)], forward['A'+str(i-1)]) + params['b'+str(i)]\n",
        "    forward['A'+str(i)] = relu(forward['Z'+str(i)])\n",
        "\n",
        "  forward['Z'+str(L)] = np.dot(params['W'+str(L)], forward['A'+str(L-1)]) + params['b'+str(L)]\n",
        "  forward['A'+str(L)] = softmax(forward['Z'+str(L)])\n",
        "\n",
        "\n",
        "  return forward\n"
      ],
      "metadata": {
        "id": "NEPJRxcEoaVw"
      },
      "execution_count": 212,
      "outputs": []
    },
    {
      "cell_type": "code",
      "source": [
        "def accuracy(A, Y):\n",
        "  assert A.shape == Y.shape\n",
        "  pred = np.zeros_like(A)\n",
        "  pred[np.argmax(A, axis = 0), range(A.shape[1])] = 1\n",
        "  results = np.max(pred + Y, axis = 0) == 2\n",
        "\n",
        "  acc = np.count_nonzero(results) / results.size\n",
        "  return acc\n",
        "\n",
        "def find_misses(A, Y):\n",
        "  assert A.shape == Y.shape\n",
        "  pred = np.zeros_like(A)\n",
        "  pred[np.argmax(A, axis = 0), range(pred.shape[1])] = 1\n",
        "  results = np.max(pred + Y, axis = 0) == 2\n",
        "\n",
        "  miss_ind = np.where(results == False)[0].tolist()\n",
        "  miss_guess = [np.argmax(pred, axis = 0)[m] for m in miss_ind]\n",
        "  return miss_ind, miss_guess\n"
      ],
      "metadata": {
        "id": "ixW602CBtdD1"
      },
      "execution_count": 213,
      "outputs": []
    },
    {
      "cell_type": "code",
      "source": [
        "def relu_deriv(A):\n",
        "  return A > 0\n",
        "\n",
        "def softmax_crossentropy_deriv(A, Y):\n",
        "  return A - Y\n",
        "\n",
        "def back_pass(forward, params, Y):\n",
        "  L = len(params) //2\n",
        "\n",
        "  grads = {}\n",
        "\n",
        "  N = Y.shape[1]\n",
        "\n",
        "  # grads['dZ'+str(L)] = 1 * softmax_crossentropy_deriv(forward['A'+str(L)], Y)\n",
        "  dZ = 1 * softmax_crossentropy_deriv(forward['A'+str(L)], Y)\n",
        "  # grads['dW'+str(L)] = np.dot(dZ, forward['A'+str(L-1)].T)\n",
        "  grads['dW'+str(L)] = 1/N * np.dot(dZ, forward['A'+str(L-1)].T)\n",
        "  assert grads['dW'+str(L)].shape == params['W'+str(L)].shape\n",
        "  grads['db'+str(L)] = 1/N * np.sum(dZ, axis = 1, keepdims=True)\n",
        "  assert grads['db'+str(L)].shape == params['b'+str(L)].shape\n",
        "\n",
        "\n",
        "  for i in range(L-1,0,-1):\n",
        "    # dA_i+1 = W_i+1.T * dZ\n",
        "    # grads['dZ'+str(i)] = np.multiply(np.dot(params['W'+str(i+1)].T, grads['dZ'+str(i+1)]), relu_deriv(forward['Z'+str(i)]))\n",
        "    dZ = np.dot(params['W'+str(i+1)].T, dZ) * relu_deriv(forward['Z'+str(i)])\n",
        "    # grads['dW'+str(i)] = np.dot(dZ, forward['A'+str(i-1)].T)\n",
        "    grads['dW'+str(i)] = 1/N * np.dot(dZ, forward['A'+str(i-1)].T)\n",
        "    assert grads['dW'+str(L)].shape == params['W'+str(L)].shape\n",
        "    grads['db'+str(i)] = 1/N * np.sum(dZ, axis = 1, keepdims=True)\n",
        "    assert grads['db'+str(i)].shape == params['b'+str(i)].shape\n",
        "\n",
        "  return grads\n"
      ],
      "metadata": {
        "id": "JflpQ1AsrhDn"
      },
      "execution_count": 214,
      "outputs": []
    },
    {
      "cell_type": "code",
      "source": [
        "def learn(grads, params, rate):\n",
        "  L= len(params)//2\n",
        "\n",
        "  new_params = {}\n",
        "  for i in range(1, L + 1):\n",
        "    new_params['b'+str(i)] = params['b'+str(i)] - rate*grads['db'+str(i)]\n",
        "    new_params['W'+str(i)] = params['W'+str(i)] - rate*grads['dW'+str(i)]\n",
        "\n",
        "  return new_params"
      ],
      "metadata": {
        "id": "MVom3kLOyv2a"
      },
      "execution_count": 215,
      "outputs": []
    },
    {
      "cell_type": "code",
      "source": [
        "def model(img_data, label_data, num_batches, iterations = 1, rate = 0.01, dims = None, params = None, train = True):\n",
        "  if params is None: params = initialize(dims)\n",
        "\n",
        "  assert label_data.shape[1] % num_batches == 0\n",
        "  batch_size = int(label_data.shape[1] / num_batches)\n",
        "\n",
        "  L = len(params)//2\n",
        "  accuracies = []\n",
        "  missed_inds = []\n",
        "  missed_guesses = []\n",
        "\n",
        "  # training data\n",
        "  if train:\n",
        "    start = time.time()\n",
        "    for i in range(1, iterations+1):\n",
        "      for j in range(num_batches):\n",
        "        forward = forward_pass(img_data[:,j*batch_size:(j+1)*batch_size], params)\n",
        "\n",
        "        acc = accuracy(forward['A'+str(L)], label_data[:,j*batch_size:(j+1)*batch_size])\n",
        "        accuracies.append(acc)\n",
        "\n",
        "        grads = back_pass(forward, params, label_data[:,j*batch_size:(j+1)*batch_size])\n",
        "        params = learn(grads, params, rate)\n",
        "\n",
        "      if i % 10 == 0: print(f'Accuracy at iteration {i}: {accuracies[i-1]}')\n",
        "    end = time.time()\n",
        "    print(f'Training Time: {end - start} s')\n",
        "\n",
        "  # for validating and testing data\n",
        "  else:\n",
        "      for j in range(num_batches):\n",
        "        forward = forward_pass(img_data[:,j*batch_size:(j+1)*batch_size], params)\n",
        "\n",
        "        acc = accuracy(forward['A'+str(L)], label_data[:,j*batch_size:(j+1)*batch_size])\n",
        "        accuracies.append(acc)\n",
        "\n",
        "        miss_ind, miss_guess = find_misses(forward['A'+str(L)], label_data[:,j*batch_size:(j+1)*batch_size])\n",
        "        missed_inds += [j*batch_size + m for m in miss_ind]\n",
        "        missed_guesses += [m for m in miss_guess]\n",
        "        assert len(missed_inds) == len(missed_guesses)\n",
        "\n",
        "        print(f'Accuracy at iteration {j+1}: {accuracies[j]}')\n",
        "\n",
        "  plt.figure()\n",
        "  plt.title('Training Accuracy') if train else plt.title('Test Accuracy')\n",
        "  plt.xlabel('Cycles')\n",
        "  plt.ylabel('accuracy (%)')\n",
        "  plt.plot(range(1,len(accuracies)+1), [100*a for a in accuracies], marker = '.')\n",
        "  plt.show()\n",
        "\n",
        "  return params, missed_inds, missed_guesses"
      ],
      "metadata": {
        "id": "LRPN1iHVxdaK"
      },
      "execution_count": 216,
      "outputs": []
    },
    {
      "cell_type": "code",
      "source": [
        "# train data\n",
        "\n",
        "dimensions = [784, 128, 64, 10]\n",
        "batches = 1\n",
        "iterations = 300\n",
        "rate = 0.05\n",
        "\n",
        "params = model(train_imgs, train_labels, batches, iterations, rate, dimensions)[0]"
      ],
      "metadata": {
        "id": "9lL5LWgY0UyC",
        "colab": {
          "base_uri": "https://localhost:8080/",
          "height": 1000
        },
        "outputId": "70dcc6c0-6a8f-48b8-e76f-9d9f59b41b13"
      },
      "execution_count": 218,
      "outputs": [
        {
          "output_type": "stream",
          "name": "stdout",
          "text": [
            "Accuracy at iteration 10: 0.47902\n",
            "Accuracy at iteration 20: 0.67318\n",
            "Accuracy at iteration 30: 0.74646\n",
            "Accuracy at iteration 40: 0.7865\n",
            "Accuracy at iteration 50: 0.81144\n",
            "Accuracy at iteration 60: 0.82916\n",
            "Accuracy at iteration 70: 0.8426\n",
            "Accuracy at iteration 80: 0.85224\n",
            "Accuracy at iteration 90: 0.86018\n",
            "Accuracy at iteration 100: 0.86656\n",
            "Accuracy at iteration 110: 0.87132\n",
            "Accuracy at iteration 120: 0.87562\n",
            "Accuracy at iteration 130: 0.8791\n",
            "Accuracy at iteration 140: 0.88296\n",
            "Accuracy at iteration 150: 0.88604\n",
            "Accuracy at iteration 160: 0.8892\n",
            "Accuracy at iteration 170: 0.89134\n",
            "Accuracy at iteration 180: 0.89338\n",
            "Accuracy at iteration 190: 0.89554\n",
            "Accuracy at iteration 200: 0.89746\n",
            "Accuracy at iteration 210: 0.8992\n",
            "Accuracy at iteration 220: 0.90096\n",
            "Accuracy at iteration 230: 0.90234\n",
            "Accuracy at iteration 240: 0.90382\n",
            "Accuracy at iteration 250: 0.9053\n",
            "Accuracy at iteration 260: 0.90684\n",
            "Accuracy at iteration 270: 0.90804\n",
            "Accuracy at iteration 280: 0.90952\n",
            "Accuracy at iteration 290: 0.91064\n",
            "Accuracy at iteration 300: 0.91158\n",
            "Training Time: 415.87534976005554 s\n"
          ]
        },
        {
          "output_type": "display_data",
          "data": {
            "text/plain": [
              "<Figure size 640x480 with 1 Axes>"
            ],
            "image/png": "[encoded data removed]"
          },
          "metadata": {}
        }
      ]
    },
    {
      "cell_type": "code",
      "source": [
        "# validate data\n",
        "batches = 1\n",
        "\n",
        "params, val_missed_inds, val_missed_guesses = model(val_imgs, val_labels, batches, params = params, train = False)\n",
        "print(f'Missed {len(val_missed_inds)} out of {val_imgs.shape[1]}')"
      ],
      "metadata": {
        "colab": {
          "base_uri": "https://localhost:8080/",
          "height": 507
        },
        "id": "O974as7Pg3BR",
        "outputId": "a101b57d-c15f-4041-92f9-ea56267025ca"
      },
      "execution_count": 219,
      "outputs": [
        {
          "output_type": "stream",
          "name": "stdout",
          "text": [
            "Accuracy at iteration 1: 0.9095\n"
          ]
        },
        {
          "output_type": "display_data",
          "data": {
            "text/plain": [
              "<Figure size 640x480 with 1 Axes>"
            ],
            "image/png": "[encoded data removed]"
          },
          "metadata": {}
        },
        {
          "output_type": "stream",
          "name": "stdout",
          "text": [
            "Missed 905 out of 10000\n"
          ]
        }
      ]
    },
    {
      "cell_type": "code",
      "source": [
        "# Show random missed image during validation\n",
        "i = random.randint(0,len(val_missed_inds))\n",
        "\n",
        "print(f'Missed Image Index: {i}; Correct value: {np.argmax(val_labels[:,val_missed_inds[i]])}')\n",
        "show_image(val_imgs[:,val_missed_inds[i]], one_hot_encode(val_missed_guesses[i]))"
      ],
      "metadata": {
        "colab": {
          "base_uri": "https://localhost:8080/",
          "height": 469
        },
        "id": "1XA73v9Y9ytY",
        "outputId": "a66766dd-52b6-4ad3-d2d2-97b27b037788"
      },
      "execution_count": 220,
      "outputs": [
        {
          "output_type": "stream",
          "name": "stdout",
          "text": [
            "Missed Image Index: 95; Correct value: 9\n"
          ]
        },
        {
          "output_type": "display_data",
          "data": {
            "text/plain": [
              "<Figure size 640x480 with 1 Axes>"
            ],
            "image/png": "[encoded data removed]"
          },
          "metadata": {}
        }
      ]
    },
    {
      "cell_type": "code",
      "source": [
        "# test data\n",
        "batches = 1\n",
        "\n",
        "params, test_missed_inds, test_missed_guesses = model(test_imgs, test_labels, batches, params = params, train = False)\n",
        "print(f'Missed {len(test_missed_inds)} out of {test_imgs.shape[1]}')"
      ],
      "metadata": {
        "colab": {
          "base_uri": "https://localhost:8080/",
          "height": 507
        },
        "id": "T46Rv92ky4VJ",
        "outputId": "1991941a-943d-491c-a943-5c79949ea86a"
      },
      "execution_count": 221,
      "outputs": [
        {
          "output_type": "stream",
          "name": "stdout",
          "text": [
            "Accuracy at iteration 1: 0.9141\n"
          ]
        },
        {
          "output_type": "display_data",
          "data": {
            "text/plain": [
              "<Figure size 640x480 with 1 Axes>"
            ],
            "image/png": "[encoded data removed]"
          },
          "metadata": {}
        },
        {
          "output_type": "stream",
          "name": "stdout",
          "text": [
            "Missed 859 out of 10000\n"
          ]
        }
      ]
    },
    {
      "cell_type": "code",
      "source": [
        "# Show random missed image during testing\n",
        "i = random.randint(0,len(test_missed_inds))\n",
        "\n",
        "print(f'Missed Image Index: {i}; Correct value: {np.argmax(test_labels[:,test_missed_inds[i]])}')\n",
        "show_image(test_imgs[:,test_missed_inds[i]], one_hot_encode(test_missed_guesses[i]))"
      ],
      "metadata": {
        "colab": {
          "base_uri": "https://localhost:8080/",
          "height": 469
        },
        "id": "Y_4Z7kz5ooIZ",
        "outputId": "232bc56d-f1c4-497c-9d07-db86bbaea060"
      },
      "execution_count": 222,
      "outputs": [
        {
          "output_type": "stream",
          "name": "stdout",
          "text": [
            "Missed Image Index: 30; Correct value: 5\n"
          ]
        },
        {
          "output_type": "display_data",
          "data": {
            "text/plain": [
              "<Figure size 640x480 with 1 Axes>"
            ],
            "image/png": "[encoded data removed]"
          },
          "metadata": {}
        }
      ]
    }
  ],
  "metadata": {
    "language_info": {
      "name": "python"
    },
    "orig_nbformat": 4,
    "colab": {
      "provenance": [],
      "include_colab_link": true
    },
    "kernelspec": {
      "name": "python3",
      "display_name": "Python 3"
    }
  },
  "nbformat": 4,
  "nbformat_minor": 0
}